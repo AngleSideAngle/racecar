{
 "cells": [
  {
   "cell_type": "markdown",
   "metadata": {},
   "source": [
    "# Lab 4 Exploration: LIDAR\n",
    "\n",
    "In this notebook, we will learn how to use the racecar's LIDAR to measure distance and find closest points.\n",
    "\n",
    "Throughout this notebook, **<font style=\"color:red\">text in bold red</font>** indicates a change you must make to the following code block before running it.\n",
    "\n",
    "\n",
    "## Table of Contents\n",
    "1. [Getting Started](#GettingStarted)\n",
    "1. [Gathering LIDAR Data](#GatheringLidarData)\n",
    "1. [Visualizing LIDAR Data](#VisualizingLidarData)\n",
    "1. [Handling Noise](#HandlingNoise)\n",
    "1. [Closest Point](#ClosestPoint)"
   ]
  },
  {
   "cell_type": "markdown",
   "metadata": {},
   "source": [
    "<a id=\"ROS2 Node Setup\"></a>\n",
    "## 0. ROS2 Node Setup\n",
    "\n",
    "Run the following two scripts to set up the ROS2 subscriber node that retrieves color images. After the first time the scripts have been run, they must not be run again, else the system will crash."
   ]
  },
  {
   "cell_type": "code",
   "execution_count": 1,
   "metadata": {},
   "outputs": [],
   "source": [
    "# Import Asynchronous ROS2 initialization script\n",
    "# ROS2\n",
    "import rclpy as ros2\n",
    "from rclpy.qos import qos_profile_sensor_data\n",
    "from sensor_msgs.msg import LaserScan\n",
    "from cv_bridge import CvBridge, CvBridgeError\n",
    "import threading\n",
    "\n",
    "# Create node\n",
    "ros2.init()"
   ]
  },
  {
   "cell_type": "code",
   "execution_count": 151,
   "metadata": {},
   "outputs": [],
   "source": [
    "import cv2 as cv\n",
    "import numpy as np\n",
    "from nptyping import NDArray\n",
    "\n",
    "class LidarReal():\n",
    "    # The ROS topic from which we get Lidar data\n",
    "    __SCAN_TOPIC = \"/scan\"\n",
    "    _NUM_SAMPLES = 720\n",
    "    \n",
    "    def __init__(self):\n",
    "        # ROS node\n",
    "        self.node = ros2.create_node(\"scan_sub\")\n",
    "\n",
    "        # subscribe to the scan topic, which will call\n",
    "        # __scan_callback every time the lidar sends data\n",
    "        self.__scan_sub = self.node.create_subscription(\n",
    "            LaserScan, self.__SCAN_TOPIC, self.__scan_callback, qos_profile_sensor_data\n",
    "        )\n",
    "\n",
    "        self.__samples = np.empty(0)\n",
    "        self.__samples_new = np.empty(0)\n",
    "\n",
    "    # LIDAR Scan returns value in meters, multiplying by 100 to be processed in cm\n",
    "    # LIDAR Scan reversed, flipping order of data entry to correct for CW spin\n",
    "    def __scan_callback(self, data):\n",
    "        self.__samples_new = np.flip(np.multiply(np.array(data.ranges), 100))\n",
    "        \n",
    "    def __update(self):\n",
    "        self.__samples = self.__samples_new\n",
    "\n",
    "    def get_samples(self) -> NDArray[720, np.float32]:\n",
    "        return self.__samples\n",
    "\n",
    "    def get_samples_async(self) -> NDArray[720, np.float32]:\n",
    "        ros2.spin_once(self.node)\n",
    "        return self.__samples_new\n",
    "    \n",
    "    def get_num_samples(self):\n",
    "        return self._NUM_SAMPLES"
   ]
  },
  {
   "cell_type": "markdown",
   "metadata": {},
   "source": [
    "<a id=\"GettingStarted\"></a>\n",
    "## 1. Getting Started\n",
    "\n",
    "**<font style=\"color:red\">If you are running the car in RacecarSim, set `isSimulation` to `True`</font>**. Leave `isSimulation` `False` if you are using a physical car."
   ]
  },
  {
   "cell_type": "code",
   "execution_count": 152,
   "metadata": {},
   "outputs": [],
   "source": [
    "# TODO: Update isSimulation if necessary\n",
    "isSimulation = False"
   ]
  },
  {
   "cell_type": "markdown",
   "metadata": {},
   "source": [
    "Next, we will import the necessary libraries for this notebook, including Python libraries (`cv`, `numpy`, etc.) and the Racecar library (`racecar_core`)."
   ]
  },
  {
   "cell_type": "code",
   "execution_count": 153,
   "metadata": {},
   "outputs": [],
   "source": [
    "# Import Python libraries\n",
    "import math\n",
    "import cv2 as cv\n",
    "import numpy as np\n",
    "import matplotlib.pyplot as plt\n",
    "import ipywidgets as widgets\n",
    "import statistics\n",
    "from nptyping import NDArray\n",
    "from typing import Any, Tuple, List, Optional\n",
    "\n",
    "# Import Racecar library\n",
    "import sys\n",
    "sys.path.append(\"../../library\")\n",
    "import racecar_core\n",
    "import racecar_utils as rc_utils"
   ]
  },
  {
   "cell_type": "markdown",
   "metadata": {},
   "source": [
    "Finally, we will create a racecar object.  If this step fails, make sure that `isSimulation` has the correct value."
   ]
  },
  {
   "cell_type": "code",
   "execution_count": 154,
   "metadata": {},
   "outputs": [],
   "source": [
    "# Create Racecar\n",
    "rc = LidarReal()"
   ]
  },
  {
   "cell_type": "markdown",
   "metadata": {},
   "source": [
    "<a id=\"GatheringLidarData\"></a>\n",
    "## 2. Gathering LIDAR Data\n",
    "The racecar's LIDAR data is stored as a one-dimensional numpy array of 720 distance measurements.  Each measurement is 1/2 of a degree apart, ordered clockwise, with the 0th entry directly in front of the car.\n",
    "\n",
    "In Jupyter Notebook, we can access the car's LIDAR data using `rc.lidar.get_samples_async()`.  Outside of Jupyter Notebook, we must use `rc.lidar.get_samples()` instead."
   ]
  },
  {
   "cell_type": "code",
   "execution_count": 155,
   "metadata": {
    "scrolled": false
   },
   "outputs": [],
   "source": [
    "# Access the current LIDAR scan\n",
    "scan = rc.get_samples_async()\n",
    "# [print(f\"{deg}: {dist}\") for deg, dist in enumerate(scan)]"
   ]
  },
  {
   "cell_type": "markdown",
   "metadata": {},
   "source": [
    "Let's access the measurements directly in front of and behind the car."
   ]
  },
  {
   "cell_type": "code",
   "execution_count": 156,
   "metadata": {},
   "outputs": [
    {
     "name": "stdout",
     "output_type": "stream",
     "text": [
      "Forward distance: 0.00 cm\n",
      "Rear distance: 0.00 cm\n"
     ]
    }
   ],
   "source": [
    "# Calculate and show the forward and rear distances\n",
    "forward_distance = scan[0]\n",
    "print(f\"Forward distance: {forward_distance:.2f} cm\")\n",
    "\n",
    "rear_distance = scan[360]\n",
    "print(f\"Rear distance: {rear_distance:.2f} cm\")"
   ]
  },
  {
   "cell_type": "markdown",
   "metadata": {},
   "source": [
    "**<span style=\"color:red\">Set `left_distance` and `right_distance` in the following code block to the LIDAR measurements directly to the left and directly to the right of the car.</span>**"
   ]
  },
  {
   "cell_type": "code",
   "execution_count": 157,
   "metadata": {},
   "outputs": [
    {
     "name": "stdout",
     "output_type": "stream",
     "text": [
      "Left distance: 0.00 cm\n",
      "Right distance: 0.00 cm\n"
     ]
    }
   ],
   "source": [
    "# TODO: Calculate and show the left and right distances\n",
    "left_distance = scan[270]\n",
    "print(f\"Left distance: {left_distance:.2f} cm\")\n",
    "\n",
    "right_distance = scan[90]\n",
    "print(f\"Right distance: {right_distance:.2f} cm\")"
   ]
  },
  {
   "cell_type": "markdown",
   "metadata": {},
   "source": [
    "<a id=\"VisualizingLidarData\"></a>\n",
    "## 3. Visualizing LIDAR data\n",
    "\n",
    "In this section, we will write a function to convert LIDAR data into a color image providing a top-down view of the data.  We will use the following approach:\n",
    "\n",
    "1. Create an all-black BGR image (a 3D numpy array ordered rows, columns, color channels) of the specified radius.\n",
    "1. Denote the car by drawing a green dot at the center of the image with [`rc_utils.draw_circle`](https://mitll-racecar.readthedocs.io/en/latest/racecar_utils.html#racecar_utils.draw_circle).\n",
    "1. For each LIDAR sample, set the corresponding pixel to red. We can calculate the angle of each sample based on its index in the scan.  By scaling the distance such that `max_range` is the edge of the image, we can convert this angle and distance into a row and column in the image.\n",
    "1. `highlighted_samples` contains a list of `(angle, distance)` measurements that we wish to highlight with light blue dots. These can be plotted similarly to the samples in the previous step and drawn with `rc_utils.draw_circle`.\n",
    "1. Display the color image in the Jupyter Notebook with Matplotlib.\n",
    "\n",
    "The result should look similar to the LIDAR visualization shown in the left sidebar of RacecarSim.\n",
    "\n",
    "**<span style=\"color:red\">Finish implementing this approach in the `show_lidar` function below.</span>**"
   ]
  },
  {
   "cell_type": "code",
   "execution_count": 184,
   "metadata": {},
   "outputs": [],
   "source": [
    "def show_lidar(\n",
    "    scan: NDArray[Any, np.float32],\n",
    "    radius: int = 128,\n",
    "    max_range: int = 400,\n",
    "    highlighted_samples: List[Tuple[int, int]] = []\n",
    ") -> None:\n",
    "    \"\"\"\n",
    "    Displays a visual representation of a LIDAR scan in Jupyter Notebook.\n",
    "    \n",
    "    Args:\n",
    "        scan: The LIDAR scan to show.\n",
    "        radius: Half of the width and height (in pixels) of the generated image.\n",
    "        max_range: The farthest distance to show in the image in cm. Any sample past this range is not shown.\n",
    "        highlighted_samples: A list of samples in (angle, distance) format to show as a blue dot.\n",
    "    \"\"\"    \n",
    "    # Create a square black image with the requested radius\n",
    "    image = np.zeros((2 * radius, 2 * radius, 3), np.uint8, \"C\")\n",
    "    # 720 samples\n",
    "\n",
    "    CAR_DOT_RADIUS = 2\n",
    "    \n",
    "    rc_utils.draw_circle(image, (radius, radius), rc_utils.ColorBGR.green.value, CAR_DOT_RADIUS)\n",
    "\n",
    "    for half_deg, value in enumerate(scan):\n",
    "        if value == 0:\n",
    "            continue\n",
    "        rad = half_deg * math.pi / 180.0 / 2.0\n",
    "        x = round(radius + value * math.cos(rad))\n",
    "        y = round(radius + value * math.sin(rad))\n",
    "        if x > image.shape[0] or x < 0 or y > image.shape[0] or y < 0:\n",
    "            continue\n",
    "        rc_utils.draw_circle(image, (x, y), rc_utils.ColorBGR.red.value, CAR_DOT_RADIUS)\n",
    "\n",
    "    \n",
    "    HIGHLIGHT_DOT_RADIUS = 2\n",
    "    for deg, value in highlighted_samples:\n",
    "        rad = deg * math.pi / 180.0\n",
    "        x = round(radius + value * math.cos(rad))\n",
    "        y = round(radius + value * math.sin(rad))\n",
    "        if x > image.shape[0] or x < 0 or y > image.shape[0] or y < 0:\n",
    "            continue\n",
    "        rc_utils.draw_circle(image, (x, y), rc_utils.ColorBGR.light_blue.value, HIGHLIGHT_DOT_RADIUS)\n",
    "\n",
    "    # Show the image with Matplotlib\n",
    "    plt.imshow(cv.cvtColor(image, cv.COLOR_BGR2RGB))\n",
    "    plt.show()"
   ]
  },
  {
   "cell_type": "markdown",
   "metadata": {},
   "source": [
    "Let's use this function to visualize our LIDAR scan."
   ]
  },
  {
   "cell_type": "code",
   "execution_count": 185,
   "metadata": {
    "scrolled": true
   },
   "outputs": [
    {
     "data": {
      "image/png": "[encoded data removed]",
      "text/plain": [
       "<matplotlib.figure.Figure at 0x7f163904e0>"
      ]
     },
     "metadata": {
      "needs_background": "light"
     },
     "output_type": "display_data"
    }
   ],
   "source": [
    "scan = rc.get_samples_async()\n",
    "show_lidar(scan)"
   ]
  },
  {
   "cell_type": "markdown",
   "metadata": {},
   "source": [
    "For now, we will test out the `highlighted_samples` feature by highlighting points 100 cm in each cardinal direction."
   ]
  },
  {
   "cell_type": "code",
   "execution_count": 187,
   "metadata": {},
   "outputs": [
    {
     "data": {
      "image/png": "[encoded data removed]",
      "text/plain": [
       "<matplotlib.figure.Figure at 0x7f164d2978>"
      ]
     },
     "metadata": {
      "needs_background": "light"
     },
     "output_type": "display_data"
    }
   ],
   "source": [
    "show_lidar(scan, highlighted_samples=[(0, 100), (90, 100), (180, 100), (270, 100)])"
   ]
  },
  {
   "cell_type": "markdown",
   "metadata": {},
   "source": [
    "<a id=\"HandlingNoise\"></a>\n",
    "## 4. Handling Noise\n",
    "\n",
    "Just like depth images, LIDAR data is also subject to noise and null values. To help combat this, we will once again average several neighboring samples across an *angle window* instead of relying on a single measurement. For example, if we want to measure the distance at 60 degrees with a 4 degree window angle, we would average all of the samples from 58 to 62 degrees.  To reduce the impact of null values, we should not consider any 0.0 measurement in our average.\n",
    "\n",
    "**<span style=\"color:red\">Implement this approach in `get_lidar_average_distance`</span>**. You may wish to use a Python [list comprehension](https://docs.python.org/3/tutorial/datastructures.html#list-comprehensions)."
   ]
  },
  {
   "cell_type": "code",
   "execution_count": 188,
   "metadata": {
    "scrolled": false
   },
   "outputs": [],
   "source": [
    "def get_lidar_average_distance(\n",
    "    scan: NDArray[Any, np.float32], angle: float, window_angle: float = 4\n",
    ") -> float:\n",
    "    \"\"\"\n",
    "    Finds the average distance of the object at a particular angle relative to the car.\n",
    "\n",
    "    Args:\n",
    "        scan: The samples from a LIDAR scan\n",
    "        angle: The angle (in degrees) at which to measure distance, starting at 0\n",
    "            directly in front of the car and increasing clockwise.\n",
    "        window_angle: The number of degrees to consider around angle.\n",
    "\n",
    "    Returns:\n",
    "        The average distance of the points at angle in cm.\n",
    "\n",
    "    Note:\n",
    "        Ignores any samples with a value of 0.0 (no data).\n",
    "        Increasing window_angle reduces noise at the cost of reduced accuracy.\n",
    "    \"\"\"\n",
    "    # TODO: average the samples in the specified window\n",
    "    \n",
    "    \n",
    "    angle = angle % 360\n",
    "    \n",
    "    min_angle = round((angle - window_angle / 2) % 360 * 2)\n",
    "    max_angle = round((angle + window_angle / 2) % 360 * 2)\n",
    "    \n",
    "    if max_angle == min_angle:\n",
    "        return 0\n",
    "    \n",
    "    order = 1\n",
    "    \n",
    "    if max_angle < min_angle:\n",
    "        order = -1\n",
    "    \n",
    "    slice = scan[min_angle:max_angle:order]\n",
    "    \n",
    "    return sum(slice) / len(slice)"
   ]
  },
  {
   "cell_type": "markdown",
   "metadata": {},
   "source": [
    "Let's try it out. Increasing the window angle will decrease noise by including more samples, but will also decrease accuracy by including less relevant samples."
   ]
  },
  {
   "cell_type": "code",
   "execution_count": 189,
   "metadata": {
    "scrolled": false
   },
   "outputs": [
    {
     "name": "stdout",
     "output_type": "stream",
     "text": [
      "Rear distance (6 degree window): 145.97 cm\n"
     ]
    }
   ],
   "source": [
    "WINDOW_ANGLE = 6\n",
    "rear_distance = get_lidar_average_distance(scan, 180, WINDOW_ANGLE)\n",
    "print(f\"Rear distance ({WINDOW_ANGLE} degree window): {rear_distance:.2f} cm\")"
   ]
  },
  {
   "cell_type": "markdown",
   "metadata": {},
   "source": [
    "`get_lidar_average_distance` must handle when the angle window passes over the edge of the array.  For example, with an angle of 0 and a window angle of 6, we must consider all samples in the range 357 to 3 degrees.\n",
    "\n",
    "**<span style=\"color:red\">If you have not done so already, update `get_lidar_average_distance` to support angle windows that cross the edge of the array.</span>**."
   ]
  },
  {
   "cell_type": "code",
   "execution_count": 190,
   "metadata": {},
   "outputs": [
    {
     "name": "stdout",
     "output_type": "stream",
     "text": [
      "Forward distance (6 degree window): 114.05 cm\n"
     ]
    }
   ],
   "source": [
    "forward_distance = get_lidar_average_distance(scan, 0, WINDOW_ANGLE)\n",
    "print(f\"Forward distance ({WINDOW_ANGLE} degree window): {forward_distance:.2f} cm\")"
   ]
  },
  {
   "cell_type": "markdown",
   "metadata": {},
   "source": [
    "Finally, we must handle when there is no data in the specified angle window.  In this case, we should return `0.0`.\n",
    "\n",
    "**<span style=\"color:red\">If you have not done so already, update `get_lidar_average_distance` to return `0.0` when the specified range does not contain any data.</span>**."
   ]
  },
  {
   "cell_type": "code",
   "execution_count": 191,
   "metadata": {},
   "outputs": [
    {
     "name": "stdout",
     "output_type": "stream",
     "text": [
      "Forward distance (6 degree window) in null scan: 0.00 cm\n"
     ]
    }
   ],
   "source": [
    "null_scan = np.zeros(rc.get_num_samples(), np.float32)\n",
    "forward_distance = get_lidar_average_distance(null_scan, 0, WINDOW_ANGLE)\n",
    "print(f\"Forward distance ({WINDOW_ANGLE} degree window) in null scan: {forward_distance:.2f} cm\")"
   ]
  },
  {
   "cell_type": "markdown",
   "metadata": {},
   "source": [
    "<a id=\"ClosestPoint\"></a>\n",
    "## 5. Closest Point\n",
    "\n",
    "We can use the LIDAR to find the angle of the closest object in 360 degrees around the car.  Just like with the depth image, we should convert null values to a large number so they are not considered for the minimum. An efficient way to do this is to shift down each value by a small amount (such as 0.01 cm) and then mod by a large number (such as 10,000 cm).  This way, 0.0 becomes -0.01, which after modding becomes 9,999.99 cm, a very large distance that will not interfere with the true minimum.\n",
    "\n",
    "```\n",
    "scan = (scan - 0.01) % 10000\n",
    "```\n",
    "\n",
    "In lecture, we saw an example of how to find the angle of the closest point using the Numpy [argmin](https://numpy.org/doc/1.19/reference/generated/numpy.argmin.html) function.\n",
    "\n",
    "```\n",
    "scan = (scan - 0.01) % 10000\n",
    "angle = np.argmin(scan) * 360 / rc.lidar.get_num_samples()\n",
    "```\n",
    "\n",
    "However, we may only wish to consider samples within a particular range, such as samples ranging from 30 to 150 degrees. **<span style=\"color:red\">Implement `get_closest_pixel` to find the angle and distance of the closest point within a specified window in a LIDAR scan</span>**."
   ]
  },
  {
   "cell_type": "code",
   "execution_count": 198,
   "metadata": {},
   "outputs": [],
   "source": [
    "def get_lidar_closest_point(\n",
    "    scan: NDArray[Any, np.float32], window: Tuple[float, float] = (0, 360)\n",
    ") -> Tuple[float, float]:\n",
    "    \"\"\"\n",
    "    Finds the closest point from a LIDAR scan.\n",
    "\n",
    "    Args:\n",
    "        scan: The samples from a LIDAR scan.\n",
    "        window: The degree range to consider, expressed as (min_degree, max_degree)\n",
    "\n",
    "    Returns:\n",
    "        The (angle, distance) of the point closest to the car within the specified\n",
    "        degree window. All angles are in degrees, starting at 0 directly in front of the\n",
    "        car and increasing clockwise. Distance is in cm.\n",
    "\n",
    "    Note:\n",
    "        Ignores any samples with a value of 0.0 (no data).\n",
    "\n",
    "        In order to define a window which passes through the 360-0 degree boundary, it\n",
    "        is acceptable for window min_degree to be larger than window max_degree.  For\n",
    "        example, (350, 10) is a 20 degree window in front of the car.\n",
    "    \"\"\"\n",
    "    # TODO: Return the (angle, distance) of the closest point within the specified window\n",
    "    scan = (scan - 0.01) % 10000\n",
    "    \n",
    "    min_angle = window[0] % 360 * 2\n",
    "    max_angle = window[1] % 360 * 2\n",
    "    \n",
    "    slice = scan[min_angle:max_angle]\n",
    "    angle = np.argmin(slice) * 360 / rc.get_num_samples() + min_angle\n",
    "    return (angle, scan[int(angle)])"
   ]
  },
  {
   "cell_type": "markdown",
   "metadata": {},
   "source": [
    "Let's use `get_lidar_closest_point` to find the closest point to the right of the car."
   ]
  },
  {
   "cell_type": "code",
   "execution_count": 199,
   "metadata": {},
   "outputs": [
    {
     "name": "stdout",
     "output_type": "stream",
     "text": [
      "Angle: 78.0 degrees\n",
      "Distance: 93.3 cm\n"
     ]
    },
    {
     "data": {
      "image/png": "[encoded data removed]",
      "text/plain": [
       "<matplotlib.figure.Figure at 0x7f16562208>"
      ]
     },
     "metadata": {
      "needs_background": "light"
     },
     "output_type": "display_data"
    }
   ],
   "source": [
    "angle, distance = get_lidar_closest_point(scan, (30, 150))\n",
    "print(f\"Angle: {angle:.1f} degrees\")\n",
    "print(f\"Distance: {distance:.1f} cm\")\n",
    "\n",
    "show_lidar(scan, highlighted_samples=[(angle, distance)])"
   ]
  },
  {
   "cell_type": "markdown",
   "metadata": {},
   "source": [
    "Once again, we should handle when the specified degree range passes over the edge of our array.  **<span style=\"color:red\">If you have not done so already, update `get_lidar_closest_point` to support negative angles and windows that cross the edge of the array.</span>**."
   ]
  },
  {
   "cell_type": "code",
   "execution_count": 200,
   "metadata": {},
   "outputs": [
    {
     "ename": "ValueError",
     "evalue": "attempt to get argmin of an empty sequence",
     "output_type": "error",
     "traceback": [
      "\u001b[0;31m---------------------------------------------------------------------------\u001b[0m",
      "\u001b[0;31mValueError\u001b[0m                                Traceback (most recent call last)",
      "\u001b[0;32m<ipython-input-200-67239b2de241>\u001b[0m in \u001b[0;36m<module>\u001b[0;34m\u001b[0m\n\u001b[0;32m----> 1\u001b[0;31m \u001b[0mangle\u001b[0m\u001b[0;34m,\u001b[0m \u001b[0mdistance\u001b[0m \u001b[0;34m=\u001b[0m \u001b[0mget_lidar_closest_point\u001b[0m\u001b[0;34m(\u001b[0m\u001b[0mscan\u001b[0m\u001b[0;34m,\u001b[0m \u001b[0;34m(\u001b[0m\u001b[0;34m-\u001b[0m\u001b[0;36m30\u001b[0m\u001b[0;34m,\u001b[0m \u001b[0;36m30\u001b[0m\u001b[0;34m)\u001b[0m\u001b[0;34m)\u001b[0m\u001b[0;34m\u001b[0m\u001b[0;34m\u001b[0m\u001b[0m\n\u001b[0m\u001b[1;32m      2\u001b[0m \u001b[0mprint\u001b[0m\u001b[0;34m(\u001b[0m\u001b[0;34mf\"Angle: {angle:.1f} degrees\"\u001b[0m\u001b[0;34m)\u001b[0m\u001b[0;34m\u001b[0m\u001b[0;34m\u001b[0m\u001b[0m\n\u001b[1;32m      3\u001b[0m \u001b[0mprint\u001b[0m\u001b[0;34m(\u001b[0m\u001b[0;34mf\"Distance: {distance:.1f} cm\"\u001b[0m\u001b[0;34m)\u001b[0m\u001b[0;34m\u001b[0m\u001b[0;34m\u001b[0m\u001b[0m\n\u001b[1;32m      4\u001b[0m \u001b[0;34m\u001b[0m\u001b[0m\n\u001b[1;32m      5\u001b[0m \u001b[0mshow_lidar\u001b[0m\u001b[0;34m(\u001b[0m\u001b[0mscan\u001b[0m\u001b[0;34m,\u001b[0m \u001b[0mhighlighted_samples\u001b[0m\u001b[0;34m=\u001b[0m\u001b[0;34m[\u001b[0m\u001b[0;34m(\u001b[0m\u001b[0mangle\u001b[0m\u001b[0;34m,\u001b[0m \u001b[0mdistance\u001b[0m\u001b[0;34m)\u001b[0m\u001b[0;34m]\u001b[0m\u001b[0;34m)\u001b[0m\u001b[0;34m\u001b[0m\u001b[0;34m\u001b[0m\u001b[0m\n",
      "\u001b[0;32m<ipython-input-198-875d2dff4dbb>\u001b[0m in \u001b[0;36mget_lidar_closest_point\u001b[0;34m(scan, window)\u001b[0m\n\u001b[1;32m     28\u001b[0m \u001b[0;34m\u001b[0m\u001b[0m\n\u001b[1;32m     29\u001b[0m     \u001b[0mslice\u001b[0m \u001b[0;34m=\u001b[0m \u001b[0mscan\u001b[0m\u001b[0;34m[\u001b[0m\u001b[0mmin_angle\u001b[0m\u001b[0;34m:\u001b[0m\u001b[0mmax_angle\u001b[0m\u001b[0;34m]\u001b[0m\u001b[0;34m\u001b[0m\u001b[0;34m\u001b[0m\u001b[0m\n\u001b[0;32m---> 30\u001b[0;31m     \u001b[0mangle\u001b[0m \u001b[0;34m=\u001b[0m \u001b[0mnp\u001b[0m\u001b[0;34m.\u001b[0m\u001b[0margmin\u001b[0m\u001b[0;34m(\u001b[0m\u001b[0mslice\u001b[0m\u001b[0;34m)\u001b[0m \u001b[0;34m*\u001b[0m \u001b[0;36m360\u001b[0m \u001b[0;34m/\u001b[0m \u001b[0mrc\u001b[0m\u001b[0;34m.\u001b[0m\u001b[0mget_num_samples\u001b[0m\u001b[0;34m(\u001b[0m\u001b[0;34m)\u001b[0m \u001b[0;34m+\u001b[0m \u001b[0mmin_angle\u001b[0m\u001b[0;34m\u001b[0m\u001b[0;34m\u001b[0m\u001b[0m\n\u001b[0m\u001b[1;32m     31\u001b[0m     \u001b[0;32mreturn\u001b[0m \u001b[0;34m(\u001b[0m\u001b[0mangle\u001b[0m\u001b[0;34m,\u001b[0m \u001b[0mscan\u001b[0m\u001b[0;34m[\u001b[0m\u001b[0mint\u001b[0m\u001b[0;34m(\u001b[0m\u001b[0mangle\u001b[0m\u001b[0;34m)\u001b[0m\u001b[0;34m]\u001b[0m\u001b[0;34m)\u001b[0m\u001b[0;34m\u001b[0m\u001b[0;34m\u001b[0m\u001b[0m\n",
      "\u001b[0;32m<__array_function__ internals>\u001b[0m in \u001b[0;36margmin\u001b[0;34m(*args, **kwargs)\u001b[0m\n",
      "\u001b[0;32m~/.local/lib/python3.6/site-packages/numpy/core/fromnumeric.py\u001b[0m in \u001b[0;36margmin\u001b[0;34m(a, axis, out)\u001b[0m\n\u001b[1;32m   1267\u001b[0m \u001b[0;34m\u001b[0m\u001b[0m\n\u001b[1;32m   1268\u001b[0m     \"\"\"\n\u001b[0;32m-> 1269\u001b[0;31m     \u001b[0;32mreturn\u001b[0m \u001b[0m_wrapfunc\u001b[0m\u001b[0;34m(\u001b[0m\u001b[0ma\u001b[0m\u001b[0;34m,\u001b[0m \u001b[0;34m'argmin'\u001b[0m\u001b[0;34m,\u001b[0m \u001b[0maxis\u001b[0m\u001b[0;34m=\u001b[0m\u001b[0maxis\u001b[0m\u001b[0;34m,\u001b[0m \u001b[0mout\u001b[0m\u001b[0;34m=\u001b[0m\u001b[0mout\u001b[0m\u001b[0;34m)\u001b[0m\u001b[0;34m\u001b[0m\u001b[0;34m\u001b[0m\u001b[0m\n\u001b[0m\u001b[1;32m   1270\u001b[0m \u001b[0;34m\u001b[0m\u001b[0m\n\u001b[1;32m   1271\u001b[0m \u001b[0;34m\u001b[0m\u001b[0m\n",
      "\u001b[0;32m~/.local/lib/python3.6/site-packages/numpy/core/fromnumeric.py\u001b[0m in \u001b[0;36m_wrapfunc\u001b[0;34m(obj, method, *args, **kwds)\u001b[0m\n\u001b[1;32m     56\u001b[0m \u001b[0;34m\u001b[0m\u001b[0m\n\u001b[1;32m     57\u001b[0m     \u001b[0;32mtry\u001b[0m\u001b[0;34m:\u001b[0m\u001b[0;34m\u001b[0m\u001b[0;34m\u001b[0m\u001b[0m\n\u001b[0;32m---> 58\u001b[0;31m         \u001b[0;32mreturn\u001b[0m \u001b[0mbound\u001b[0m\u001b[0;34m(\u001b[0m\u001b[0;34m*\u001b[0m\u001b[0margs\u001b[0m\u001b[0;34m,\u001b[0m \u001b[0;34m**\u001b[0m\u001b[0mkwds\u001b[0m\u001b[0;34m)\u001b[0m\u001b[0;34m\u001b[0m\u001b[0;34m\u001b[0m\u001b[0m\n\u001b[0m\u001b[1;32m     59\u001b[0m     \u001b[0;32mexcept\u001b[0m \u001b[0mTypeError\u001b[0m\u001b[0;34m:\u001b[0m\u001b[0;34m\u001b[0m\u001b[0;34m\u001b[0m\u001b[0m\n\u001b[1;32m     60\u001b[0m         \u001b[0;31m# A TypeError occurs if the object does have such a method in its\u001b[0m\u001b[0;34m\u001b[0m\u001b[0;34m\u001b[0m\u001b[0;34m\u001b[0m\u001b[0m\n",
      "\u001b[0;31mValueError\u001b[0m: attempt to get argmin of an empty sequence"
     ]
    }
   ],
   "source": [
    "angle, distance = get_lidar_closest_point(scan, (-30, 30))\n",
    "print(f\"Angle: {angle:.1f} degrees\")\n",
    "print(f\"Distance: {distance:.1f} cm\")\n",
    "\n",
    "show_lidar(scan, highlighted_samples=[(angle, distance)])"
   ]
  },
  {
   "cell_type": "markdown",
   "metadata": {},
   "source": [
    "You are now ready to begin on LIDAR labs `lab4a.py` and `lab4b.py`.  Good luck, and don't be afraid to ask questions!"
   ]
  }
 ],
 "metadata": {
  "kernelspec": {
   "display_name": "Python 3",
   "language": "python",
   "name": "python3"
  },
  "language_info": {
   "codemirror_mode": {
    "name": "ipython",
    "version": 3
   },
   "file_extension": ".py",
   "mimetype": "text/x-python",
   "name": "python",
   "nbconvert_exporter": "python",
   "pygments_lexer": "ipython3",
   "version": "3.9.17"
  }
 },
 "nbformat": 4,
 "nbformat_minor": 4
}
